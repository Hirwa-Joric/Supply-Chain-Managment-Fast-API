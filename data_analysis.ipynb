{
 "cells": [
  {
   "cell_type": "markdown",
   "metadata": {},
   "source": [
    "# Supply Chain Data Analysis\n",
    "\n",
    "This notebook fetches data from both the Inventory Management System (IMS) and Order Management System (OMS) APIs, combines the data, and performs analysis."
   ]
  },
  {
   "cell_type": "code",
   "execution_count": null,
   "metadata": {},
   "source": [
    "import pandas as pd\n",
    "import numpy as np\n",
    "import requests\n",
    "import sqlite3\n",
    "import matplotlib.pyplot as plt\n",
    "import seaborn as sns\n",
    "from datetime import datetime, timedelta"
   ]
  },
  {
   "cell_type": "markdown",
   "metadata": {},
   "source": [
    "## Fetch Data from APIs"
   ]
  },
  {
   "cell_type": "code",
   "execution_count": null,
   "metadata": {},
   "source": [
    "# Connect to IMS database\n",
    "ims_conn = sqlite3.connect('ims.db')\n",
    "inventory_data = pd.read_sql_query(\"\"\"\n",
    "    SELECT \n",
    "        p.id as product_id,\n",
    "        p.name as product_name,\n",
    "        p.category,\n",
    "        p.price,\n",
    "        p.quantity as current_stock,\n",
    "        p.created_at,\n",
    "        p.updated_at\n",
    "    FROM products p\n",
    "\"\"\", ims_conn)\n",
    "\n",
    "# Connect to OMS database\n",
    "oms_conn = sqlite3.connect('oms.db')\n",
    "order_data = pd.read_sql_query(\"\"\"\n",
    "    SELECT \n",
    "        o.id as order_id,\n",
    "        o.product_id,\n",
    "        o.quantity as ordered_quantity,\n",
    "        o.total_price,\n",
    "        o.status,\n",
    "        o.created_at as order_date\n",
    "    FROM orders o\n",
    "\"\"\", oms_conn)"
   ]
  },
  {
   "cell_type": "markdown",
   "metadata": {},
   "source": [
    "## Data Processing and Analysis"
   ]
  },
  {
   "cell_type": "code",
   "execution_count": null,
   "metadata": {},
   "source": [
    "# Merge inventory and order data\n",
    "merged_data = pd.merge(order_data, inventory_data, on='product_id')\n",
    "\n",
    "# Convert timestamps\n",
    "merged_data['order_date'] = pd.to_datetime(merged_data['order_date'])\n",
    "merged_data['created_at'] = pd.to_datetime(merged_data['created_at'])\n",
    "merged_data['updated_at'] = pd.to_datetime(merged_data['updated_at'])\n",
    "\n",
    "# Calculate key metrics\n",
    "merged_data['revenue'] = merged_data['ordered_quantity'] * merged_data['price']\n",
    "merged_data['profit_margin'] = (merged_data['total_price'] - (merged_data['price'] * merged_data['ordered_quantity'])) / merged_data['total_price'] * 100"
   ]
  },
  {
   "cell_type": "markdown",
   "metadata": {},
   "source": [
    "## Visualizations"
   ]
  },
  {
   "cell_type": "code",
   "execution_count": null,
   "metadata": {},
   "source": [
    "# Set plotting style\n",
    "plt.style.use('seaborn')\n",
    "\n",
    "# 1. Daily Order Volume\n",
    "daily_orders = merged_data.groupby(merged_data['order_date'].dt.date).size()\n",
    "plt.figure(figsize=(15, 6))\n",
    "daily_orders.plot(kind='line')\n",
    "plt.title('Daily Order Volume')\n",
    "plt.xlabel('Date')\n",
    "plt.ylabel('Number of Orders')\n",
    "plt.show()\n",
    "\n",
    "# 2. Product Category Distribution\n",
    "plt.figure(figsize=(10, 6))\n",
    "merged_data['category'].value_counts().plot(kind='bar')\n",
    "plt.title('Orders by Product Category')\n",
    "plt.xlabel('Category')\n",
    "plt.ylabel('Number of Orders')\n",
    "plt.xticks(rotation=45)\n",
    "plt.show()\n",
    "\n",
    "# 3. Stock vs Orders Analysis\n",
    "stock_analysis = merged_data.groupby('product_name').agg({\n",
    "    'current_stock': 'first',\n",
    "    'ordered_quantity': 'sum'\n",
    "}).reset_index()\n",
    "\n",
    "plt.figure(figsize=(12, 6))\n",
    "plt.scatter(stock_analysis['current_stock'], stock_analysis['ordered_quantity'])\n",
    "plt.title('Current Stock vs Total Orders')\n",
    "plt.xlabel('Current Stock')\n",
    "plt.ylabel('Total Ordered Quantity')\n",
    "plt.show()"
   ]
  },
  {
   "cell_type": "markdown",
   "metadata": {},
   "source": [
    "## Inventory Analysis"
   ]
  },
  {
   "cell_type": "code",
   "execution_count": null,
   "metadata": {},
   "source": [
    "# Calculate inventory metrics\n",
    "inventory_metrics = merged_data.groupby('product_name').agg({\n",
    "    'current_stock': 'first',\n",
    "    'ordered_quantity': ['sum', 'count'],\n",
    "    'revenue': 'sum',\n",
    "    'profit_margin': 'mean'\n",
    "}).round(2)\n",
    "\n",
    "inventory_metrics.columns = ['Current Stock', 'Total Orders', 'Order Count', 'Total Revenue', 'Avg Profit Margin %']\n",
    "inventory_metrics['Stock Turnover Ratio'] = inventory_metrics['Total Orders'] / inventory_metrics['Current Stock']\n",
    "\n",
    "# Display top 10 products by revenue\n",
    "print(\"Top 10 Products by Revenue:\")\n",
    "print(inventory_metrics.sort_values('Total Revenue', ascending=False).head(10))"
   ]
  },
  {
   "cell_type": "markdown",
   "metadata": {},
   "source": [
    "## Save Processed Data"
   ]
  },
  {
   "cell_type": "code",
   "execution_count": null,
   "metadata": {},
   "source": [
    "# Save the processed data to CSV\n",
    "merged_data.to_csv('supply_chain_data.csv', index=False)\n",
    "inventory_metrics.to_csv('inventory_metrics.csv')\n",
    "\n",
    "print(\"Data analysis complete and saved to CSV files.\")"
   ]
  }
 ],
 "metadata": {
  "kernelspec": {
   "display_name": "Python 3",
   "language": "python",
   "name": "python3"
  },
  "language_info": {
   "codemirror_mode": {
    "name": "ipython",
    "version": 3
   },
   "file_extension": ".py",
   "mimetype": "text/x-python",
   "name": "python",
   "nbconvert_exporter": "python",
   "pygments_lexer": "ipython3",
   "version": "3.8.0"
  }
 },
 "nbformat": 4,
 "nbformat_minor": 4
}
